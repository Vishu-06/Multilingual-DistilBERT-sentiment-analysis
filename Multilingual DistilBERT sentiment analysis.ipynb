{
 "cells": [
  {
   "cell_type": "code",
   "execution_count": 16,
   "metadata": {},
   "outputs": [],
   "source": [
    "from transformers import pipeline\n",
    "zero_shot_classifier = pipeline('zero-shot-classification', model=\"MoritzLaurer/mDeBERTa-v3-base-mnli-xnli\", device=-1) #CPU device=-1 #GPU device=0"
   ]
  },
  {
   "cell_type": "code",
   "execution_count": 17,
   "metadata": {},
   "outputs": [],
   "source": [
    "def func(sequence):\n",
    "    class_names = [\"positive\", \"neutral\", \"negative\"]\n",
    "    return zero_shot_classifier(sequence, class_names, hypothesis_template=\"The sentiment of this text is {}.\")"
   ]
  },
  {
   "cell_type": "code",
   "execution_count": 18,
   "metadata": {},
   "outputs": [],
   "source": [
    "sentiment_langs = {\n",
    "\"Telugu\":\n",
    "   \"తమిళనాడు ప్రభుత్వం అత్యవసర పరిస్థితిని ఎదుర్కోవడంలో చాలా దారుణంగా ఉంది.\",\n",
    "\n",
    "\"Bengali\":\n",
    "   \"ভারতীয় সরকার এখন বেশ কিছু ক্ষেত্রে খুবই নাগরিকদের মধ্যে নেতিবাচক নয় হিসেবে চিহ্নিত হয়েছে.\",\n",
    "\n",
    "\"Hindi\":\n",
    "   \"भारतीय सरकार ने कई समय से लोगों के बीच एक अविश्वसनीयता का सामना किया है और उनकी प्रतिक्रियाएँ बहुतायत में नकारात्मक हैं.\",\n",
    "\n",
    "\"Kannada\":\n",
    "   \"ಭಾರತೀಯ ಸರ್ಕಾರವು ಕೆಲವೇ ಕ್ಷೇತ್ರಗಳಲ್ಲಿ ನಾಗರಿಕರ ನಡುವಳಿಕೆಯ ಬಗ್ಗೆ ಹೆಚ್ಚುವರಿ ವಿಶ್ವಾಸಹೀನತೆಯನ್ನು ಸೂಚಿಸಿದೆ.\",\n",
    "\n",
    "\"Marathi\":\n",
    "   \"भारतीय सरकारने कितीतरी क्षेत्रात लोकांच्या सोबत अतिशय कंटाळा तयार केला आहे.\",\n",
    "\n",
    "\"Nepali\":\n",
    "   \"भारतीय सरकारले केहि समयदेखि लोगहरूको बीचमा अविश्वासनीयता सामना गरेको छ र तिनीहरूको प्रतिक्रिया अधिकांशमा नकारात्मक छ.\",\n",
    "\n",
    "\"Punjabi\":\n",
    "   \"ਭਾਰਤੀ ਸਰਕਾਰ ਨੇ ਕਈ ਸਮੇਂ ਤੋਂ ਲੋਕਾਂ ਦੇ ਵਿਚ ਏਕ ਅਵਿਸ਼ਵਾਸਨੀਯਤਾ ਦਾ ਮੁੱਕਾਬਲਾ ਕੀਤਾ ਹੈ ਅਤੇ ਉਨਾਂ ਦੀਆਂ ਪ੍ਰਤਿਕ੍ਰਿਆਵਾਂ ਆਮ ਤੌਰ ਤੇ ਨਕਾਰਾਤਮਕ ਹਨ.\",\n",
    "\n",
    "\"Tamil\":\n",
    "   \"இந்திய அரசு எப்போதும் சில பரிபாட்டுகளில் மக்களிடம் எதிர்பார்க்கவில்லை மற்றும் அவர்களிடம் அனைத்துச் செயல்களையும் மறைக்கின்றன.\",\n",
    "\n",
    "\"Telugu\":\n",
    "   \"భారతీయ ప్రభుత్వం కొన్ని కాలాల నుంచి జనాలకు సామాన్యంగా ఎదుర్కొంటున్న అవిశ్వాసాన్వితంగా కనిపిస్తోంది.\"}\n"
   ]
  },
  {
   "cell_type": "code",
   "execution_count": 20,
   "metadata": {},
   "outputs": [
    {
     "name": "stdout",
     "output_type": "stream",
     "text": [
      "Language: Telugu\n",
      "Result: {'sequence': 'భారతీయ ప్రభుత్వం కొన్ని కాలాల నుంచి జనాలకు సామాన్యంగా ఎదుర్కొంటున్న అవిశ్వాసాన్వితంగా కనిపిస్తోంది.', 'labels': ['negative', 'neutral', 'positive'], 'scores': [0.8542590141296387, 0.12160789966583252, 0.02413308434188366]}\n",
      "\n",
      "Language: Bengali\n",
      "Result: {'sequence': 'ভারতীয় সরকার এখন বেশ কিছু ক্ষেত্রে খুবই নাগরিকদের মধ্যে নেতিবাচক নয় হিসেবে চিহ্নিত হয়েছে.', 'labels': ['neutral', 'positive', 'negative'], 'scores': [0.7160016894340515, 0.22733448445796967, 0.056663863360881805]}\n",
      "\n",
      "Language: Hindi\n",
      "Result: {'sequence': 'भारतीय सरकार ने कई समय से लोगों के बीच एक अविश्वसनीयता का सामना किया है और उनकी प्रतिक्रियाएँ बहुतायत में नकारात्मक हैं.', 'labels': ['negative', 'neutral', 'positive'], 'scores': [0.9933961629867554, 0.004187678452581167, 0.0024161592591553926]}\n",
      "\n",
      "Language: Kannada\n",
      "Result: {'sequence': 'ಭಾರತೀಯ ಸರ್ಕಾರವು ಕೆಲವೇ ಕ್ಷೇತ್ರಗಳಲ್ಲಿ ನಾಗರಿಕರ ನಡುವಳಿಕೆಯ ಬಗ್ಗೆ ಹೆಚ್ಚುವರಿ ವಿಶ್ವಾಸಹೀನತೆಯನ್ನು ಸೂಚಿಸಿದೆ.', 'labels': ['negative', 'neutral', 'positive'], 'scores': [0.87398761510849, 0.11110462993383408, 0.014907795935869217]}\n",
      "\n",
      "Language: Marathi\n",
      "Result: {'sequence': 'भारतीय सरकारने कितीतरी क्षेत्रात लोकांच्या सोबत अतिशय कंटाळा तयार केला आहे.', 'labels': ['negative', 'positive', 'neutral'], 'scores': [0.7517178654670715, 0.1402403861284256, 0.10804170370101929]}\n",
      "\n",
      "Language: Nepali\n",
      "Result: {'sequence': 'भारतीय सरकारले केहि समयदेखि लोगहरूको बीचमा अविश्वासनीयता सामना गरेको छ र तिनीहरूको प्रतिक्रिया अधिकांशमा नकारात्मक छ.', 'labels': ['negative', 'neutral', 'positive'], 'scores': [0.9892486929893494, 0.006548664066940546, 0.004202586133033037]}\n",
      "\n",
      "Language: Punjabi\n",
      "Result: {'sequence': 'ਭਾਰਤੀ ਸਰਕਾਰ ਨੇ ਕਈ ਸਮੇਂ ਤੋਂ ਲੋਕਾਂ ਦੇ ਵਿਚ ਏਕ ਅਵਿਸ਼ਵਾਸਨੀਯਤਾ ਦਾ ਮੁੱਕਾਬਲਾ ਕੀਤਾ ਹੈ ਅਤੇ ਉਨਾਂ ਦੀਆਂ ਪ੍ਰਤਿਕ੍ਰਿਆਵਾਂ ਆਮ ਤੌਰ ਤੇ ਨਕਾਰਾਤਮਕ ਹਨ.', 'labels': ['negative', 'neutral', 'positive'], 'scores': [0.9555601477622986, 0.038659870624542236, 0.00577994529157877]}\n",
      "\n",
      "Language: Tamil\n",
      "Result: {'sequence': 'இந்திய அரசு எப்போதும் சில பரிபாட்டுகளில் மக்களிடம் எதிர்பார்க்கவில்லை மற்றும் அவர்களிடம் அனைத்துச் செயல்களையும் மறைக்கின்றன.', 'labels': ['neutral', 'negative', 'positive'], 'scores': [0.4583173096179962, 0.3904181122779846, 0.15126463770866394]}\n",
      "\n"
     ]
    }
   ],
   "source": [
    "for lang, val in sentiment_langs.items():\n",
    "    result = func(val)\n",
    "    print(f\"Language: {lang}\\nResult: {result}\\n\")"
   ]
  }
 ],
 "metadata": {
  "kernelspec": {
   "display_name": "Python 3",
   "language": "python",
   "name": "python3"
  },
  "language_info": {
   "codemirror_mode": {
    "name": "ipython",
    "version": 3
   },
   "file_extension": ".py",
   "mimetype": "text/x-python",
   "name": "python",
   "nbconvert_exporter": "python",
   "pygments_lexer": "ipython3",
   "version": "3.11.3"
  }
 },
 "nbformat": 4,
 "nbformat_minor": 2
}
